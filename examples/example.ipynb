{
 "cells": [
  {
   "cell_type": "code",
   "execution_count": null,
   "metadata": {},
   "outputs": [],
   "source": [
    "import numpy as np\n",
    "from pycoulomb import Ewald, Direct"
   ]
  },
  {
   "cell_type": "markdown",
   "metadata": {},
   "source": [
    "# Madelung Constant of NaCl\n",
    "\n",
    "The Madelung constant of NaCl is 1.7476"
   ]
  },
  {
   "cell_type": "code",
   "execution_count": null,
   "metadata": {},
   "outputs": [],
   "source": [
    "# NaCL\n",
    "positions_nacl = np.array(\n",
    "    [\n",
    "        [0.0, 0.0, 0.0],\n",
    "        [0.5, 0.5, 0.0],\n",
    "        [0.5, 0.0, 0.5],\n",
    "        [0.0, 0.5, 0.5],\n",
    "        [0.5, 0.0, 0.0],\n",
    "        [0.0, 0.5, 0.0],\n",
    "        [0.0, 0.0, 0.5],\n",
    "        [0.5, 0.5, 0.5],\n",
    "    ]\n",
    ")\n",
    "charges_nacl = np.array([1, 1, 1, 1, -1, -1, -1, -1])"
   ]
  },
  {
   "cell_type": "code",
   "execution_count": null,
   "metadata": {},
   "outputs": [],
   "source": [
    "ewald = Ewald(positions=positions_nacl, charges=charges_nacl, L=1, epsilon=None)\n",
    "ewald.calculate_energy()\n",
    "print(-ewald.energy / len(positions_nacl))"
   ]
  },
  {
   "cell_type": "markdown",
   "metadata": {},
   "source": [
    "# Direct summation of two charges"
   ]
  },
  {
   "cell_type": "code",
   "execution_count": null,
   "metadata": {},
   "outputs": [],
   "source": [
    "r = np.array([[0.0, 0.0, 0.0], [0.5, 0.5, 0.5]])\n",
    "q = np.array([-1, 1])"
   ]
  },
  {
   "cell_type": "code",
   "execution_count": null,
   "metadata": {},
   "outputs": [],
   "source": [
    "direct = Direct(positions=r, charges=q, L=1)\n",
    "direct.calculate_energy()\n",
    "print(direct.energy)"
   ]
  },
  {
   "cell_type": "code",
   "execution_count": null,
   "metadata": {},
   "outputs": [],
   "source": [
    "# Reference value\n",
    "print(-1 / np.linalg.norm(r[0] - r[1]))"
   ]
  }
 ],
 "metadata": {
  "interpreter": {
   "hash": "aee8b7b246df8f9039afb4144a1f6fd8d2ca17a180786b69acc140d282b71a49"
  },
  "kernelspec": {
   "display_name": "Python 3.9.10 64-bit",
   "language": "python",
   "name": "python3"
  },
  "language_info": {
   "codemirror_mode": {
    "name": "ipython",
    "version": 3
   },
   "file_extension": ".py",
   "mimetype": "text/x-python",
   "name": "python",
   "nbconvert_exporter": "python",
   "pygments_lexer": "ipython3",
   "version": "3.9.10"
  },
  "orig_nbformat": 4
 },
 "nbformat": 4,
 "nbformat_minor": 2
}
